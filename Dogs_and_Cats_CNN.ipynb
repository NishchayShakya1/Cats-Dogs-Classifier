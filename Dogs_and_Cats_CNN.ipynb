{
 "cells": [
  {
   "cell_type": "code",
   "execution_count": 1,
   "id": "8fab9441",
   "metadata": {},
   "outputs": [],
   "source": [
    "import tensorflow as tf"
   ]
  },
  {
   "cell_type": "code",
   "execution_count": 2,
   "id": "562e3b3c",
   "metadata": {},
   "outputs": [],
   "source": [
    "from keras.preprocessing.image import ImageDataGenerator"
   ]
  },
  {
   "cell_type": "code",
   "execution_count": 3,
   "id": "4c038b8f",
   "metadata": {},
   "outputs": [
    {
     "name": "stdout",
     "output_type": "stream",
     "text": [
      "Found 7991 images belonging to 2 classes.\n"
     ]
    }
   ],
   "source": [
    "train_datagen = ImageDataGenerator(\n",
    "        rescale=1./255,\n",
    "        shear_range=0.2,\n",
    "        zoom_range=0.2,\n",
    "        horizontal_flip=True)\n",
    "train_generator = train_datagen.flow_from_directory(\n",
    "        'dataset/training_set',\n",
    "        target_size=(64, 64),\n",
    "        batch_size=32,\n",
    "        class_mode='binary')"
   ]
  },
  {
   "cell_type": "code",
   "execution_count": 4,
   "id": "320baf6f",
   "metadata": {},
   "outputs": [
    {
     "name": "stdout",
     "output_type": "stream",
     "text": [
      "Found 7991 images belonging to 2 classes.\n"
     ]
    }
   ],
   "source": [
    "test_datagen = ImageDataGenerator(rescale=1./255)\n",
    "validation_generator = test_datagen.flow_from_directory(\n",
    "        'dataset/test_set',\n",
    "        target_size=(64, 64),\n",
    "        batch_size=32,\n",
    "        class_mode='binary')"
   ]
  },
  {
   "cell_type": "code",
   "execution_count": 5,
   "id": "5b11a21c",
   "metadata": {},
   "outputs": [],
   "source": [
    "#Build CNN Model\n",
    "#Initialize\n",
    "cnn = tf.keras.models.Sequential()"
   ]
  },
  {
   "cell_type": "code",
   "execution_count": 6,
   "id": "2bccb833",
   "metadata": {},
   "outputs": [],
   "source": [
    "#Convolution\n",
    "cnn.add(tf.keras.layers.Conv2D(filters = 32, kernel_size = 3, activation = 'relu', input_shape = [64,64,3]))"
   ]
  },
  {
   "cell_type": "code",
   "execution_count": 7,
   "id": "d0abdc73",
   "metadata": {},
   "outputs": [],
   "source": [
    "#Pooling\n",
    "cnn.add(tf.keras.layers.MaxPool2D(pool_size = 2, strides = 2))"
   ]
  },
  {
   "cell_type": "code",
   "execution_count": 8,
   "id": "ddf0550c",
   "metadata": {},
   "outputs": [],
   "source": [
    "#Add 1 more Layer\n",
    "cnn.add(tf.keras.layers.Conv2D(filters = 32, kernel_size = 3, activation = 'relu'))\n",
    "\n",
    "cnn.add(tf.keras.layers.MaxPool2D(pool_size = 2, strides = 2))"
   ]
  },
  {
   "cell_type": "code",
   "execution_count": 9,
   "id": "4d2d75eb",
   "metadata": {},
   "outputs": [],
   "source": [
    "#Flatten\n",
    "cnn.add(tf.keras.layers.Flatten())"
   ]
  },
  {
   "cell_type": "code",
   "execution_count": 10,
   "id": "5f70f4a6",
   "metadata": {},
   "outputs": [],
   "source": [
    "#Full Connection\n",
    "cnn.add(tf.keras.layers.Dense(units = 128, activation = 'relu'))"
   ]
  },
  {
   "cell_type": "code",
   "execution_count": 11,
   "id": "68d3504a",
   "metadata": {},
   "outputs": [],
   "source": [
    "#Output Layer\n",
    "cnn.add(tf.keras.layers.Dense(units = 1, activation = 'sigmoid'))"
   ]
  },
  {
   "cell_type": "code",
   "execution_count": 12,
   "id": "15f0b6ad",
   "metadata": {},
   "outputs": [],
   "source": [
    "#Compile the model\n",
    "cnn.compile(optimizer = 'adam', loss = 'binary_crossentropy', metrics = ['accuracy'])"
   ]
  },
  {
   "cell_type": "code",
   "execution_count": 13,
   "id": "f9b6feb5",
   "metadata": {},
   "outputs": [
    {
     "name": "stdout",
     "output_type": "stream",
     "text": [
      "Epoch 1/20\n",
      "250/250 [==============================] - 47s 188ms/step - loss: 0.6621 - accuracy: 0.5923 - val_loss: 0.5869 - val_accuracy: 0.6871\n",
      "Epoch 2/20\n",
      "250/250 [==============================] - 48s 191ms/step - loss: 0.5977 - accuracy: 0.6804 - val_loss: 0.5805 - val_accuracy: 0.6909\n",
      "Epoch 3/20\n",
      "250/250 [==============================] - 48s 192ms/step - loss: 0.5665 - accuracy: 0.7035 - val_loss: 0.5046 - val_accuracy: 0.7493\n",
      "Epoch 4/20\n",
      "250/250 [==============================] - 48s 193ms/step - loss: 0.5300 - accuracy: 0.7343 - val_loss: 0.4708 - val_accuracy: 0.7798\n",
      "Epoch 5/20\n",
      "250/250 [==============================] - 49s 194ms/step - loss: 0.4998 - accuracy: 0.7508 - val_loss: 0.4652 - val_accuracy: 0.7781\n",
      "Epoch 6/20\n",
      "250/250 [==============================] - 51s 206ms/step - loss: 0.4943 - accuracy: 0.7606 - val_loss: 0.5118 - val_accuracy: 0.7566\n",
      "Epoch 7/20\n",
      "250/250 [==============================] - 50s 202ms/step - loss: 0.4746 - accuracy: 0.7756 - val_loss: 0.4321 - val_accuracy: 0.8069\n",
      "Epoch 8/20\n",
      "250/250 [==============================] - 50s 200ms/step - loss: 0.4503 - accuracy: 0.7815 - val_loss: 0.4371 - val_accuracy: 0.8002\n",
      "Epoch 9/20\n",
      "250/250 [==============================] - 50s 200ms/step - loss: 0.4350 - accuracy: 0.7964 - val_loss: 0.3926 - val_accuracy: 0.8254\n",
      "Epoch 10/20\n",
      "250/250 [==============================] - 50s 200ms/step - loss: 0.4291 - accuracy: 0.7974 - val_loss: 0.3690 - val_accuracy: 0.8338\n",
      "Epoch 11/20\n",
      "250/250 [==============================] - 50s 201ms/step - loss: 0.4061 - accuracy: 0.8160 - val_loss: 0.3399 - val_accuracy: 0.8481\n",
      "Epoch 12/20\n",
      "250/250 [==============================] - 50s 202ms/step - loss: 0.3911 - accuracy: 0.8238 - val_loss: 0.3330 - val_accuracy: 0.8575\n",
      "Epoch 13/20\n",
      "250/250 [==============================] - 51s 203ms/step - loss: 0.3829 - accuracy: 0.8268 - val_loss: 0.3636 - val_accuracy: 0.8341\n",
      "Epoch 14/20\n",
      "250/250 [==============================] - 50s 200ms/step - loss: 0.3616 - accuracy: 0.8369 - val_loss: 0.3204 - val_accuracy: 0.8606\n",
      "Epoch 15/20\n",
      "250/250 [==============================] - 50s 200ms/step - loss: 0.3495 - accuracy: 0.8428 - val_loss: 0.3034 - val_accuracy: 0.8694\n",
      "Epoch 16/20\n",
      "250/250 [==============================] - 50s 202ms/step - loss: 0.3346 - accuracy: 0.8517 - val_loss: 0.3202 - val_accuracy: 0.8536\n",
      "Epoch 17/20\n",
      "250/250 [==============================] - 51s 203ms/step - loss: 0.3197 - accuracy: 0.8620 - val_loss: 0.2889 - val_accuracy: 0.8724\n",
      "Epoch 18/20\n",
      "250/250 [==============================] - 50s 202ms/step - loss: 0.2948 - accuracy: 0.8740 - val_loss: 0.2301 - val_accuracy: 0.9044\n",
      "Epoch 19/20\n",
      "250/250 [==============================] - 51s 202ms/step - loss: 0.2879 - accuracy: 0.8739 - val_loss: 0.2179 - val_accuracy: 0.9104\n",
      "Epoch 20/20\n",
      "250/250 [==============================] - 51s 204ms/step - loss: 0.2788 - accuracy: 0.8802 - val_loss: 0.1932 - val_accuracy: 0.9228\n"
     ]
    }
   ],
   "source": [
    "history = cnn.fit(x = train_generator, validation_data = validation_generator, epochs = 20)"
   ]
  },
  {
   "cell_type": "code",
   "execution_count": 14,
   "id": "349d936c",
   "metadata": {},
   "outputs": [],
   "source": [
    "#Make Single Prediction\n",
    "import numpy as np\n",
    "from keras.preprocessing import image\n",
    "test_image = image.load_img(\"dataset/single_prediction/prediction1.jpg\", target_size = (64,64))\n",
    "test_image = image.img_to_array(test_image)\n",
    "test_image = np.expand_dims(test_image, axis = 0)\n",
    "result = cnn.predict(test_image)\n",
    "train_generator.class_indices\n",
    "if result[0][0] == 1:\n",
    "    prediction = 'dog'\n",
    "else:\n",
    "    prediction = 'cat'"
   ]
  },
  {
   "cell_type": "code",
   "execution_count": 15,
   "id": "cb33bd1a",
   "metadata": {},
   "outputs": [
    {
     "data": {
      "text/plain": [
       "'dog'"
      ]
     },
     "execution_count": 15,
     "metadata": {},
     "output_type": "execute_result"
    }
   ],
   "source": [
    "prediction"
   ]
  },
  {
   "cell_type": "code",
   "execution_count": 16,
   "id": "1ac462db",
   "metadata": {},
   "outputs": [
    {
     "name": "stdout",
     "output_type": "stream",
     "text": [
      "dict_keys(['loss', 'accuracy', 'val_loss', 'val_accuracy'])\n"
     ]
    }
   ],
   "source": [
    "import matplotlib.pyplot as plt\n",
    "print(history.history.keys())"
   ]
  },
  {
   "cell_type": "code",
   "execution_count": 17,
   "id": "e992564d",
   "metadata": {},
   "outputs": [
    {
     "data": {
      "text/plain": [
       "[<matplotlib.lines.Line2D at 0x25a3438ad30>]"
      ]
     },
     "execution_count": 17,
     "metadata": {},
     "output_type": "execute_result"
    },
    {
     "data": {
      "image/png": "[encoded data removed]",
      "text/plain": [
       "<Figure size 432x288 with 1 Axes>"
      ]
     },
     "metadata": {
      "needs_background": "light"
     },
     "output_type": "display_data"
    }
   ],
   "source": [
    "plt.plot(history.history['accuracy'])\n",
    "plt.plot(history.history['val_loss'])\n",
    "plt.plot(history.history['val_accuracy'])"
   ]
  },
  {
   "cell_type": "code",
   "execution_count": null,
   "id": "77935390",
   "metadata": {},
   "outputs": [],
   "source": []
  }
 ],
 "metadata": {
  "kernelspec": {
   "display_name": "Python 3",
   "language": "python",
   "name": "python3"
  },
  "language_info": {
   "codemirror_mode": {
    "name": "ipython",
    "version": 3
   },
   "file_extension": ".py",
   "mimetype": "text/x-python",
   "name": "python",
   "nbconvert_exporter": "python",
   "pygments_lexer": "ipython3",
   "version": "3.8.8"
  }
 },
 "nbformat": 4,
 "nbformat_minor": 5
}
